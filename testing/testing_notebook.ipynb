{
 "cells": [
  {
   "cell_type": "code",
   "execution_count": 1,
   "id": "ea43a465-87d7-4562-a52c-c75c1e91a394",
   "metadata": {},
   "outputs": [],
   "source": [
    "import pandas as pd\n",
    "import pytesseract\n",
    "from PIL import Image\n",
    "import re\n",
    "\n",
    "pytesseract.pytesseract.tesseract_cmd=r\"C:\\Program Files\\Tesseract-OCR\\tesseract.exe\""
   ]
  },
  {
   "cell_type": "code",
   "execution_count": 2,
   "id": "e404b26a-0d1f-4fbd-8ab2-e8236a70da09",
   "metadata": {},
   "outputs": [],
   "source": [
    "image_path = 'test images/patient_3_report.png'"
   ]
  },
  {
   "cell_type": "code",
   "execution_count": 3,
   "id": "5f2375e0-4844-40d2-8443-a3a2ea5ad543",
   "metadata": {},
   "outputs": [],
   "source": [
    "img = Image.open(image_path)\n",
    "extracted_text = pytesseract.image_to_string(img)\n",
    "\n",
    "\n",
    "cleaned_text = re.sub(r\"Hospital Name:.*\", \"\", extracted_text)  \n",
    "cleaned_text = re.sub(r\"\\n+\", \"\\n\", cleaned_text)  \n",
    "cleaned_text = cleaned_text.strip()  \n",
    "\n",
    "\n",
    "cleaned_text = cleaned_text.replace('|', 'I') \n",
    "\n",
    "\n",
    "cleaned_text = re.sub(r\"[^\\x00-\\x7F]+\", '', cleaned_text) \n",
    "\n",
    "if \"Symptoms:\" in cleaned_text:\n",
    "    description = cleaned_text.split(\"Symptoms:\")[-1].strip()\n",
    "else:\n",
    "    description = cleaned_text.strip()\n",
    "\n",
    "description = description.replace('\\n', ' ').strip() "
   ]
  },
  {
   "cell_type": "code",
   "execution_count": 4,
   "id": "ea874ee7-3da0-4da0-a696-89243541573f",
   "metadata": {},
   "outputs": [
    {
     "data": {
      "text/plain": [
       "\"I'm sweating a lot and can't catch my breath. My throat is full of phlegm and I feel awful. My heart is racing and my chest hurts. I'm coughing up brown stuff.\""
      ]
     },
     "execution_count": 4,
     "metadata": {},
     "output_type": "execute_result"
    }
   ],
   "source": [
    "description"
   ]
  },
  {
   "cell_type": "markdown",
   "id": "56de9311-5290-4262-80ff-f46910771689",
   "metadata": {},
   "source": [
    "### SVM Model"
   ]
  },
  {
   "cell_type": "code",
   "execution_count": 5,
   "id": "9bb84321-40a2-4ecd-9fe6-c7a6f27a3eb1",
   "metadata": {},
   "outputs": [],
   "source": [
    "import joblib\n",
    "from sklearn.feature_extraction.text import TfidfVectorizer\n",
    "\n",
    "tfidf = joblib.load('tfidf_vectorizer.joblib')\n",
    "label_encoder = joblib.load('label_encoder.joblib')\n",
    "best_svc_model = joblib.load('best_svc_model.joblib')"
   ]
  },
  {
   "cell_type": "code",
   "execution_count": 6,
   "id": "82396515-f475-4b23-a677-f142f7b2ae1b",
   "metadata": {},
   "outputs": [],
   "source": [
    "with open('clinical-stopwords.txt', 'r') as f:\n",
    "    clinical_stopwords = set(f.read().splitlines())"
   ]
  },
  {
   "cell_type": "code",
   "execution_count": 7,
   "id": "85af2054-b0ba-44c1-8817-ea663d6eaac5",
   "metadata": {},
   "outputs": [],
   "source": [
    "import re\n",
    "import nltk\n",
    "from nltk.stem import WordNetLemmatizer\n",
    "from nltk.tokenize import word_tokenize\n",
    "lemmatizer = WordNetLemmatizer()\n",
    "\n",
    "def preprocess_text(text):\n",
    "    text = re.sub(r'\\b\\w{1,2}\\b', '', text)  \n",
    "    text = re.sub(r'[^\\w\\s]', '', text)  \n",
    "    text = ' '.join([lemmatizer.lemmatize(word) for word in word_tokenize(text.lower()) if word not in clinical_stopwords])\n",
    "    return text"
   ]
  },
  {
   "cell_type": "code",
   "execution_count": 8,
   "id": "a5529dd7-8fd3-40ff-9875-30ee6d7cf281",
   "metadata": {},
   "outputs": [],
   "source": [
    "description_tfidf = tfidf.transform([preprocess_text(description)])"
   ]
  },
  {
   "cell_type": "code",
   "execution_count": 9,
   "id": "b099e2c1-402e-42e7-9705-9c6749a4b912",
   "metadata": {},
   "outputs": [],
   "source": [
    "predicted_label_encoded = best_svc_model.predict(description_tfidf.toarray())"
   ]
  },
  {
   "cell_type": "code",
   "execution_count": 10,
   "id": "68c690c7-b868-4bee-ab34-e3750cab6fe0",
   "metadata": {},
   "outputs": [
    {
     "data": {
      "text/plain": [
       "'Pneumonia'"
      ]
     },
     "execution_count": 10,
     "metadata": {},
     "output_type": "execute_result"
    }
   ],
   "source": [
    "predicted_disease = label_encoder.inverse_transform(predicted_label_encoded)\n",
    "predicted_disease[0]"
   ]
  },
  {
   "cell_type": "markdown",
   "id": "6ec6922f-3b12-4de0-b1aa-187fe06d43e1",
   "metadata": {},
   "source": [
    "### Bert Model"
   ]
  },
  {
   "cell_type": "code",
   "execution_count": 11,
   "id": "31c7d0a1-1158-4393-afd4-5141dcb7bcd6",
   "metadata": {},
   "outputs": [],
   "source": [
    "import torch\n",
    "from transformers import BertForSequenceClassification, BertTokenizerFast\n",
    "import joblib"
   ]
  },
  {
   "cell_type": "code",
   "execution_count": 12,
   "id": "ae501d7c-0672-4716-9f72-4012ec0eabbf",
   "metadata": {},
   "outputs": [
    {
     "name": "stderr",
     "output_type": "stream",
     "text": [
      "C:\\Users\\duane\\anaconda3\\Lib\\site-packages\\sklearn\\base.py:376: InconsistentVersionWarning: Trying to unpickle estimator LabelEncoder from version 1.2.2 when using version 1.5.2. This might lead to breaking code or invalid results. Use at your own risk. For more info please refer to:\n",
      "https://scikit-learn.org/stable/model_persistence.html#security-maintainability-limitations\n",
      "  warnings.warn(\n"
     ]
    }
   ],
   "source": [
    "model = BertForSequenceClassification.from_pretrained('./bert/model')\n",
    "\n",
    "tokenizer = BertTokenizerFast.from_pretrained('./bert/tokenizer')\n",
    "\n",
    "label_encoder = joblib.load('./bert/label_encoder.pkl')"
   ]
  },
  {
   "cell_type": "code",
   "execution_count": 13,
   "id": "24a00ab2-a343-41ec-a8f8-ba87bd0269d3",
   "metadata": {},
   "outputs": [],
   "source": [
    "def predict_class(text):\n",
    "    inputs = tokenizer(text, return_tensors=\"pt\", padding=True, truncation=True, max_length=512)\n",
    "    with torch.no_grad():\n",
    "        outputs = model(**inputs)\n",
    "        logits = outputs.logits\n",
    "\n",
    "    predicted_class_idx = torch.argmax(logits, dim=-1).item()\n",
    "\n",
    "    predicted_class = label_encoder.inverse_transform([predicted_class_idx])[0]\n",
    "\n",
    "    return predicted_class\n"
   ]
  },
  {
   "cell_type": "code",
   "execution_count": 14,
   "id": "7d6056a6-a8bd-49c2-82fc-39316766a6e5",
   "metadata": {},
   "outputs": [
    {
     "data": {
      "text/plain": [
       "\"I'm sweating a lot and can't catch my breath. My throat is full of phlegm and I feel awful. My heart is racing and my chest hurts. I'm coughing up brown stuff.\""
      ]
     },
     "execution_count": 14,
     "metadata": {},
     "output_type": "execute_result"
    }
   ],
   "source": [
    "description"
   ]
  },
  {
   "cell_type": "code",
   "execution_count": 15,
   "id": "4af6cdd2-dd57-4b1e-a731-2053d8447d5f",
   "metadata": {},
   "outputs": [
    {
     "name": "stdout",
     "output_type": "stream",
     "text": [
      "Predicted Class: pneumonia\n"
     ]
    }
   ],
   "source": [
    "predicted_class = predict_class(description)\n",
    "print(f\"Predicted Class: {predicted_class}\")"
   ]
  }
 ],
 "metadata": {
  "kernelspec": {
   "display_name": "Python 3 (ipykernel)",
   "language": "python",
   "name": "python3"
  },
  "language_info": {
   "codemirror_mode": {
    "name": "ipython",
    "version": 3
   },
   "file_extension": ".py",
   "mimetype": "text/x-python",
   "name": "python",
   "nbconvert_exporter": "python",
   "pygments_lexer": "ipython3",
   "version": "3.12.7"
  }
 },
 "nbformat": 4,
 "nbformat_minor": 5
}
