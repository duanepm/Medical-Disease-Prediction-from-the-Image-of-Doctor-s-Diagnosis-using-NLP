{
 "cells": [
  {
   "cell_type": "markdown",
   "id": "b1a9abf9-8005-4a36-881b-962022a3d66b",
   "metadata": {},
   "source": [
    "# Medical Disease Prediction from the Image of Doctor's Diagnosis using NLP"
   ]
  },
  {
   "cell_type": "markdown",
   "id": "166a4123-0c5a-4c1b-8676-0bd658a1ada0",
   "metadata": {},
   "source": [
    "#### Sample Image of Doctor's Diagnosis\n",
    "![image info](./dataset/image_dataset_train/patient_40_report.png)"
   ]
  },
  {
   "cell_type": "code",
   "execution_count": 1,
   "id": "b2923ad6-3a03-4c0f-a4d2-1c066d624a91",
   "metadata": {},
   "outputs": [],
   "source": [
    "import numpy as np\n",
    "import pandas as pd\n",
    "import pytesseract\n",
    "from PIL import Image\n",
    "import re\n",
    "\n",
    "pytesseract.pytesseract.tesseract_cmd=r\"C:\\Program Files\\Tesseract-OCR\\tesseract.exe\""
   ]
  },
  {
   "cell_type": "markdown",
   "id": "dcc4de68-1c79-4d84-8a00-fdb4278ee2df",
   "metadata": {},
   "source": [
    "## Reading Image Path and Disease CSV"
   ]
  },
  {
   "cell_type": "code",
   "execution_count": 2,
   "id": "ebf314c8-a4d4-4e46-84cb-3bd0d43733f3",
   "metadata": {},
   "outputs": [],
   "source": [
    "disease_data_test = pd.read_csv('dataset/disease_data_test.csv')\n",
    "disease_data_train= pd.read_csv('dataset/disease_data_train.csv')"
   ]
  },
  {
   "cell_type": "code",
   "execution_count": 3,
   "id": "018dc67b-05bb-41bd-9c60-32a3604dc8a5",
   "metadata": {},
   "outputs": [
    {
     "data": {
      "text/html": [
       "<div>\n",
       "<style scoped>\n",
       "    .dataframe tbody tr th:only-of-type {\n",
       "        vertical-align: middle;\n",
       "    }\n",
       "\n",
       "    .dataframe tbody tr th {\n",
       "        vertical-align: top;\n",
       "    }\n",
       "\n",
       "    .dataframe thead th {\n",
       "        text-align: right;\n",
       "    }\n",
       "</style>\n",
       "<table border=\"1\" class=\"dataframe\">\n",
       "  <thead>\n",
       "    <tr style=\"text-align: right;\">\n",
       "      <th></th>\n",
       "      <th>file_name</th>\n",
       "      <th>disease</th>\n",
       "    </tr>\n",
       "  </thead>\n",
       "  <tbody>\n",
       "    <tr>\n",
       "      <th>0</th>\n",
       "      <td>image_dataset_train/patient_0_report.png</td>\n",
       "      <td>Cervical Spondylosis</td>\n",
       "    </tr>\n",
       "    <tr>\n",
       "      <th>1</th>\n",
       "      <td>image_dataset_train/patient_1_report.png</td>\n",
       "      <td>Impetigo</td>\n",
       "    </tr>\n",
       "    <tr>\n",
       "      <th>2</th>\n",
       "      <td>image_dataset_train/patient_2_report.png</td>\n",
       "      <td>Urinary Tract Infection</td>\n",
       "    </tr>\n",
       "    <tr>\n",
       "      <th>3</th>\n",
       "      <td>image_dataset_train/patient_3_report.png</td>\n",
       "      <td>Arthritis</td>\n",
       "    </tr>\n",
       "    <tr>\n",
       "      <th>4</th>\n",
       "      <td>image_dataset_train/patient_4_report.png</td>\n",
       "      <td>Dengue</td>\n",
       "    </tr>\n",
       "  </tbody>\n",
       "</table>\n",
       "</div>"
      ],
      "text/plain": [
       "                                  file_name                  disease\n",
       "0  image_dataset_train/patient_0_report.png     Cervical Spondylosis\n",
       "1  image_dataset_train/patient_1_report.png                 Impetigo\n",
       "2  image_dataset_train/patient_2_report.png  Urinary Tract Infection\n",
       "3  image_dataset_train/patient_3_report.png                Arthritis\n",
       "4  image_dataset_train/patient_4_report.png                   Dengue"
      ]
     },
     "execution_count": 3,
     "metadata": {},
     "output_type": "execute_result"
    }
   ],
   "source": [
    "disease_data_train.head()"
   ]
  },
  {
   "cell_type": "markdown",
   "id": "1562fa2c-8423-46d1-98e1-55fea6bfd291",
   "metadata": {},
   "source": [
    "## Function for Image Processing\n",
    "##### Open the image and perform OCR to extract text\n",
    "##### Remove lines with certain patterns like \"Hospital Name\" and blank lines\n",
    "##### Replace common OCR misinterpretations (like | as I)\n",
    "##### Remove non-ASCII characters\n",
    "##### Clean up the description to remove unwanted artifacts like line breaks or extra spaces\n",
    "##### Add the extracted description and disease to the reconstructed data list"
   ]
  },
  {
   "cell_type": "code",
   "execution_count": 4,
   "id": "009007ec-4148-47bb-a4fc-65b4086a707f",
   "metadata": {},
   "outputs": [],
   "source": [
    "def get_dataframe_from_images(disease_data):\n",
    "    reconstructed_data = []\n",
    "    for _, row in disease_data.iterrows():\n",
    "        image_path = 'dataset/'+row['file_name']\n",
    "        disease = row['disease']\n",
    "        \n",
    "        img = Image.open(image_path)\n",
    "        extracted_text = pytesseract.image_to_string(img)\n",
    "    \n",
    "        cleaned_text = re.sub(r\"Hospital Name:.*\", \"\", extracted_text)  \n",
    "        cleaned_text = re.sub(r\"\\n+\", \"\\n\", cleaned_text)  \n",
    "        cleaned_text = cleaned_text.strip()  \n",
    "        cleaned_text = cleaned_text.replace('|', 'I') \n",
    "        cleaned_text = re.sub(r\"[^\\x00-\\x7F]+\", '', cleaned_text)  \n",
    "        if \"Symptoms:\" in cleaned_text:\n",
    "            description = cleaned_text.split(\"Symptoms:\")[-1].strip()\n",
    "        else:\n",
    "            description = cleaned_text.strip()\n",
    "        description = description.replace('\\n', ' ').strip() \n",
    "        reconstructed_data.append({\n",
    "            'description': description,\n",
    "            'disease': disease\n",
    "        })\n",
    "    reconstructed_df = pd.DataFrame(reconstructed_data)\n",
    "    return reconstructed_df"
   ]
  },
  {
   "cell_type": "markdown",
   "id": "404a2f31-5722-488e-b88c-6bce0f811565",
   "metadata": {},
   "source": [
    "## Final Reconstructed DataFrame"
   ]
  },
  {
   "cell_type": "code",
   "execution_count": 5,
   "id": "e865468b-e8e4-43f2-8e1f-112e25150d87",
   "metadata": {},
   "outputs": [],
   "source": [
    "train_df=get_dataframe_from_images(disease_data_train)\n",
    "test_df=get_dataframe_from_images(disease_data_test)"
   ]
  },
  {
   "cell_type": "code",
   "execution_count": 6,
   "id": "904793fc-aa34-43d7-bf66-d070e71de3a6",
   "metadata": {},
   "outputs": [],
   "source": [
    "train_df.to_csv('train.csv',index=False)\n",
    "test_df.to_csv('test.csv',index=False)"
   ]
  },
  {
   "cell_type": "code",
   "execution_count": 7,
   "id": "bd4e5840-3bd0-4237-b36a-cf29143615ca",
   "metadata": {
    "scrolled": true
   },
   "outputs": [
    {
     "data": {
      "text/html": [
       "<div>\n",
       "<style scoped>\n",
       "    .dataframe tbody tr th:only-of-type {\n",
       "        vertical-align: middle;\n",
       "    }\n",
       "\n",
       "    .dataframe tbody tr th {\n",
       "        vertical-align: top;\n",
       "    }\n",
       "\n",
       "    .dataframe thead th {\n",
       "        text-align: right;\n",
       "    }\n",
       "</style>\n",
       "<table border=\"1\" class=\"dataframe\">\n",
       "  <thead>\n",
       "    <tr style=\"text-align: right;\">\n",
       "      <th></th>\n",
       "      <th>description</th>\n",
       "      <th>disease</th>\n",
       "    </tr>\n",
       "  </thead>\n",
       "  <tbody>\n",
       "    <tr>\n",
       "      <th>0</th>\n",
       "      <td>I've been having a lot of pain in my neck and ...</td>\n",
       "      <td>Cervical Spondylosis</td>\n",
       "    </tr>\n",
       "    <tr>\n",
       "      <th>1</th>\n",
       "      <td>I have a rash on my face that is getting worse...</td>\n",
       "      <td>Impetigo</td>\n",
       "    </tr>\n",
       "    <tr>\n",
       "      <th>2</th>\n",
       "      <td>I have been urinating blood. I sometimes feel ...</td>\n",
       "      <td>Urinary Tract Infection</td>\n",
       "    </tr>\n",
       "    <tr>\n",
       "      <th>3</th>\n",
       "      <td>I have been having trouble with my muscles and...</td>\n",
       "      <td>Arthritis</td>\n",
       "    </tr>\n",
       "    <tr>\n",
       "      <th>4</th>\n",
       "      <td>I have been feeling really sick. My body hurts...</td>\n",
       "      <td>Dengue</td>\n",
       "    </tr>\n",
       "    <tr>\n",
       "      <th>...</th>\n",
       "      <td>...</td>\n",
       "      <td>...</td>\n",
       "    </tr>\n",
       "    <tr>\n",
       "      <th>848</th>\n",
       "      <td>My veins are bulging and painful. I can't stan...</td>\n",
       "      <td>Varicose Veins</td>\n",
       "    </tr>\n",
       "    <tr>\n",
       "      <th>849</th>\n",
       "      <td>I have been having headaches for a while now. ...</td>\n",
       "      <td>Migraine</td>\n",
       "    </tr>\n",
       "    <tr>\n",
       "      <th>850</th>\n",
       "      <td>I have a rash on my face that is very painful ...</td>\n",
       "      <td>Impetigo</td>\n",
       "    </tr>\n",
       "    <tr>\n",
       "      <th>851</th>\n",
       "      <td>I have a stuffy nose and nasal congestion. I s...</td>\n",
       "      <td>Allergy</td>\n",
       "    </tr>\n",
       "    <tr>\n",
       "      <th>852</th>\n",
       "      <td>I've been feeling really sick lately. I've had...</td>\n",
       "      <td>Pneumonia</td>\n",
       "    </tr>\n",
       "  </tbody>\n",
       "</table>\n",
       "<p>853 rows × 2 columns</p>\n",
       "</div>"
      ],
      "text/plain": [
       "                                           description  \\\n",
       "0    I've been having a lot of pain in my neck and ...   \n",
       "1    I have a rash on my face that is getting worse...   \n",
       "2    I have been urinating blood. I sometimes feel ...   \n",
       "3    I have been having trouble with my muscles and...   \n",
       "4    I have been feeling really sick. My body hurts...   \n",
       "..                                                 ...   \n",
       "848  My veins are bulging and painful. I can't stan...   \n",
       "849  I have been having headaches for a while now. ...   \n",
       "850  I have a rash on my face that is very painful ...   \n",
       "851  I have a stuffy nose and nasal congestion. I s...   \n",
       "852  I've been feeling really sick lately. I've had...   \n",
       "\n",
       "                     disease  \n",
       "0       Cervical Spondylosis  \n",
       "1                   Impetigo  \n",
       "2    Urinary Tract Infection  \n",
       "3                  Arthritis  \n",
       "4                     Dengue  \n",
       "..                       ...  \n",
       "848           Varicose Veins  \n",
       "849                 Migraine  \n",
       "850                 Impetigo  \n",
       "851                  Allergy  \n",
       "852                Pneumonia  \n",
       "\n",
       "[853 rows x 2 columns]"
      ]
     },
     "execution_count": 7,
     "metadata": {},
     "output_type": "execute_result"
    }
   ],
   "source": [
    "train_df"
   ]
  },
  {
   "cell_type": "code",
   "execution_count": 8,
   "id": "a7fb4ee2-fe77-496f-934b-b841367c36a1",
   "metadata": {
    "scrolled": true
   },
   "outputs": [
    {
     "data": {
      "text/html": [
       "<div>\n",
       "<style scoped>\n",
       "    .dataframe tbody tr th:only-of-type {\n",
       "        vertical-align: middle;\n",
       "    }\n",
       "\n",
       "    .dataframe tbody tr th {\n",
       "        vertical-align: top;\n",
       "    }\n",
       "\n",
       "    .dataframe thead th {\n",
       "        text-align: right;\n",
       "    }\n",
       "</style>\n",
       "<table border=\"1\" class=\"dataframe\">\n",
       "  <thead>\n",
       "    <tr style=\"text-align: right;\">\n",
       "      <th></th>\n",
       "      <th>description</th>\n",
       "      <th>disease</th>\n",
       "    </tr>\n",
       "  </thead>\n",
       "  <tbody>\n",
       "    <tr>\n",
       "      <th>0</th>\n",
       "      <td>I have a burning sensation in my stomach that ...</td>\n",
       "      <td>Peptic Ulcer Disease</td>\n",
       "    </tr>\n",
       "    <tr>\n",
       "      <th>1</th>\n",
       "      <td>I have a hard time swallowing and I feel like ...</td>\n",
       "      <td>Peptic Ulcer Disease</td>\n",
       "    </tr>\n",
       "    <tr>\n",
       "      <th>2</th>\n",
       "      <td>I've been having headaches and migraines, and ...</td>\n",
       "      <td>Drug Reaction</td>\n",
       "    </tr>\n",
       "    <tr>\n",
       "      <th>3</th>\n",
       "      <td>I'm sweating a lot and can't catch my breath. ...</td>\n",
       "      <td>Pneumonia</td>\n",
       "    </tr>\n",
       "    <tr>\n",
       "      <th>4</th>\n",
       "      <td>I've been scratching myself a lot lately, and ...</td>\n",
       "      <td>Fungal Infection</td>\n",
       "    </tr>\n",
       "    <tr>\n",
       "      <th>...</th>\n",
       "      <td>...</td>\n",
       "      <td>...</td>\n",
       "    </tr>\n",
       "    <tr>\n",
       "      <th>207</th>\n",
       "      <td>I have been experiencing muscle pain that make...</td>\n",
       "      <td>Dengue</td>\n",
       "    </tr>\n",
       "    <tr>\n",
       "      <th>208</th>\n",
       "      <td>I have red, irritated skin on my arms, face, a...</td>\n",
       "      <td>Psoriasis</td>\n",
       "    </tr>\n",
       "    <tr>\n",
       "      <th>209</th>\n",
       "      <td>I've been having a hard time breathing, and I'...</td>\n",
       "      <td>Bronchial Asthma</td>\n",
       "    </tr>\n",
       "    <tr>\n",
       "      <th>210</th>\n",
       "      <td>I've been coughing a lot for a few days now. I...</td>\n",
       "      <td>Bronchial Asthma</td>\n",
       "    </tr>\n",
       "    <tr>\n",
       "      <th>211</th>\n",
       "      <td>I have a severe headache that feels like press...</td>\n",
       "      <td>Dengue</td>\n",
       "    </tr>\n",
       "  </tbody>\n",
       "</table>\n",
       "<p>212 rows × 2 columns</p>\n",
       "</div>"
      ],
      "text/plain": [
       "                                           description               disease\n",
       "0    I have a burning sensation in my stomach that ...  Peptic Ulcer Disease\n",
       "1    I have a hard time swallowing and I feel like ...  Peptic Ulcer Disease\n",
       "2    I've been having headaches and migraines, and ...         Drug Reaction\n",
       "3    I'm sweating a lot and can't catch my breath. ...             Pneumonia\n",
       "4    I've been scratching myself a lot lately, and ...      Fungal Infection\n",
       "..                                                 ...                   ...\n",
       "207  I have been experiencing muscle pain that make...                Dengue\n",
       "208  I have red, irritated skin on my arms, face, a...             Psoriasis\n",
       "209  I've been having a hard time breathing, and I'...      Bronchial Asthma\n",
       "210  I've been coughing a lot for a few days now. I...      Bronchial Asthma\n",
       "211  I have a severe headache that feels like press...                Dengue\n",
       "\n",
       "[212 rows x 2 columns]"
      ]
     },
     "execution_count": 8,
     "metadata": {},
     "output_type": "execute_result"
    }
   ],
   "source": [
    "test_df"
   ]
  },
  {
   "cell_type": "markdown",
   "id": "a75858d5-3df8-4df7-91ae-c29b46459078",
   "metadata": {},
   "source": [
    "### Checking Null Values"
   ]
  },
  {
   "cell_type": "code",
   "execution_count": 8,
   "id": "b7bd92db-8054-405c-9531-1c227c868708",
   "metadata": {},
   "outputs": [
    {
     "data": {
      "text/plain": [
       "(0, 0)"
      ]
     },
     "execution_count": 8,
     "metadata": {},
     "output_type": "execute_result"
    }
   ],
   "source": [
    "train_df['description'].isnull().sum(), test_df['description'].isnull().sum()"
   ]
  },
  {
   "cell_type": "markdown",
   "id": "8d6947e8-e114-4809-b0e5-6cbecbc4e19d",
   "metadata": {},
   "source": [
    "### Loading Clinical Stopwords"
   ]
  },
  {
   "cell_type": "code",
   "execution_count": 9,
   "id": "ffbfbf22-1ba8-43e9-bf85-efcaabb975f8",
   "metadata": {},
   "outputs": [],
   "source": [
    "with open('clinical-stopwords.txt', 'r') as f:\n",
    "    clinical_stopwords = set(f.read().splitlines())"
   ]
  },
  {
   "cell_type": "code",
   "execution_count": 10,
   "id": "af35e7de-8b13-4e11-b2c0-78237e11f724",
   "metadata": {},
   "outputs": [],
   "source": [
    "import nltk\n",
    "from nltk.stem import WordNetLemmatizer\n",
    "from nltk.tokenize import word_tokenize\n",
    "lemmatizer = WordNetLemmatizer()"
   ]
  },
  {
   "cell_type": "markdown",
   "id": "45f0d59d-8937-40f1-bcde-586a9be89bd7",
   "metadata": {},
   "source": [
    "### Preprocessing Text using NLTK Tokenizer and Lemmatizer"
   ]
  },
  {
   "cell_type": "code",
   "execution_count": 11,
   "id": "60976bfc-f871-46ec-b3cd-7376cb6d438f",
   "metadata": {},
   "outputs": [],
   "source": [
    "import re\n",
    "def preprocess_text(text):\n",
    "    text = re.sub(r'\\b\\w{1,2}\\b', '', text) \n",
    "    text = re.sub(r'[^\\w\\s]', '', text)\n",
    "    text = ' '.join([lemmatizer.lemmatize(word) for word in word_tokenize(text.lower()) if word not in clinical_stopwords])\n",
    "    return text"
   ]
  },
  {
   "cell_type": "code",
   "execution_count": 12,
   "id": "2686c7eb-4a99-45e5-b44f-b69dd6918c52",
   "metadata": {},
   "outputs": [],
   "source": [
    "train_df['description'] = train_df['description'].apply(preprocess_text)\n",
    "test_df['description'] = test_df['description'].apply(preprocess_text)"
   ]
  },
  {
   "cell_type": "markdown",
   "id": "6b59bf9e-92b0-45a2-b3e5-5f456d12048c",
   "metadata": {},
   "source": [
    "### Label Encoding"
   ]
  },
  {
   "cell_type": "code",
   "execution_count": 13,
   "id": "eb4c473d-73f8-4b40-9065-8fcb016f6c5f",
   "metadata": {},
   "outputs": [],
   "source": [
    "from sklearn.preprocessing import LabelEncoder\n",
    "label_encoder = LabelEncoder()\n",
    "train_df['disease'] = label_encoder.fit_transform(train_df['disease'])\n",
    "test_df['disease'] = label_encoder.transform(test_df['disease'])"
   ]
  },
  {
   "cell_type": "code",
   "execution_count": 14,
   "id": "f60b6e5a-ab95-4f40-a9f1-e0cac4ce9cd3",
   "metadata": {},
   "outputs": [],
   "source": [
    "X_train=train_df['description']\n",
    "y_train=train_df['disease']\n",
    "X_test=test_df['description']\n",
    "y_test=test_df['disease']"
   ]
  },
  {
   "cell_type": "markdown",
   "id": "8f47f4f7-f7c6-402a-8e56-85d7551c316b",
   "metadata": {},
   "source": [
    "## TF-IDF Vectorization"
   ]
  },
  {
   "cell_type": "code",
   "execution_count": 15,
   "id": "3e4d59c5-1e74-46c2-aca4-0ac31073180d",
   "metadata": {},
   "outputs": [],
   "source": [
    "from sklearn.feature_extraction.text import TfidfVectorizer\n",
    "tfidf = TfidfVectorizer(max_features=10000, stop_words=None,sublinear_tf=True)\n",
    "\n",
    "X_train_tfidf = tfidf.fit_transform(X_train).toarray()"
   ]
  },
  {
   "cell_type": "markdown",
   "id": "d58af261-e94a-4c2e-a866-569781b66d1a",
   "metadata": {},
   "source": [
    "## Loading ML Models"
   ]
  },
  {
   "cell_type": "code",
   "execution_count": 16,
   "id": "f88d0431-4ccb-4f3c-8955-7a34f4cbcde6",
   "metadata": {},
   "outputs": [],
   "source": [
    "from sklearn.linear_model import LogisticRegression\n",
    "from sklearn.svm import SVC\n",
    "from sklearn.ensemble import RandomForestClassifier\n",
    "from sklearn.naive_bayes import MultinomialNB\n",
    "from sklearn.tree import DecisionTreeClassifier\n",
    "from sklearn.neighbors import KNeighborsClassifier\n",
    "from sklearn.ensemble import GradientBoostingClassifier\n",
    "from xgboost import XGBClassifier"
   ]
  },
  {
   "cell_type": "code",
   "execution_count": 17,
   "id": "eb231c38-60df-4c22-ba5b-623595b28e20",
   "metadata": {},
   "outputs": [],
   "source": [
    "models = {\n",
    "    \"Logistic Regression\": LogisticRegression(max_iter=1000,class_weight='balanced'),\n",
    "    \"SVM\": SVC(class_weight='balanced'),\n",
    "    \"Random Forest\": RandomForestClassifier(class_weight='balanced'),\n",
    "    \"Naive Bayes\": MultinomialNB(),\n",
    "    \"Decision Tree\": DecisionTreeClassifier(class_weight='balanced'),\n",
    "    \"KNN\": KNeighborsClassifier(),\n",
    "    \"Gradient Boosting\": GradientBoostingClassifier(),\n",
    "    \"XGBoost\" : XGBClassifier()\n",
    "}"
   ]
  },
  {
   "cell_type": "markdown",
   "id": "5e24de6e-c142-490d-9c5c-9e5c78c5c30d",
   "metadata": {},
   "source": [
    "## SMOTE Oversampling"
   ]
  },
  {
   "cell_type": "code",
   "execution_count": 18,
   "id": "88f8efe5-3fcd-4f07-9a34-2cbcf5fc27b9",
   "metadata": {},
   "outputs": [],
   "source": [
    "from imblearn.over_sampling import SMOTE\n",
    "smote = SMOTE(random_state=42)\n",
    "X_train_resampled, y_train_resampled = smote.fit_resample(X_train_tfidf, y_train)"
   ]
  },
  {
   "cell_type": "markdown",
   "id": "84e81283-cf99-4a7e-835d-c4eed3bb8367",
   "metadata": {},
   "source": [
    "## Function to intialize StratifiedKFold and Fit the models\n",
    "### Returns Precision, Recall, Fscore"
   ]
  },
  {
   "cell_type": "code",
   "execution_count": 19,
   "id": "1b7c9f15-5a66-4e00-8b1a-a2d7fc05cb5e",
   "metadata": {},
   "outputs": [],
   "source": [
    "from sklearn.model_selection import StratifiedKFold, cross_val_score\n",
    "from sklearn.metrics import accuracy_score\n",
    "from sklearn.metrics import precision_recall_fscore_support\n",
    "\n",
    "def train_and_evaluate_model(model, X_train_resampled, y_train_resampled):\n",
    "    cv = StratifiedKFold(n_splits=5, shuffle=True, random_state=42)\n",
    "    \n",
    "    accuracies = []\n",
    "    precisions = []\n",
    "    recalls = []\n",
    "    f1_scores = []\n",
    "    \n",
    "    for train_idx, val_idx in cv.split(X_train_resampled, y_train_resampled):\n",
    "        X_train_fold, X_val_fold = X_train_resampled[train_idx], X_train_resampled[val_idx]\n",
    "        y_train_fold, y_val_fold = y_train_resampled[train_idx], y_train_resampled[val_idx]\n",
    "        \n",
    "        model.fit(X_train_fold, y_train_fold)\n",
    "        \n",
    "        y_pred = model.predict(X_val_fold)\n",
    "        \n",
    "        accuracy = accuracy_score(y_val_fold, y_pred)\n",
    "        accuracies.append(accuracy)\n",
    "        \n",
    "        precision, recall, f1, _ = precision_recall_fscore_support(y_val_fold, y_pred, average='weighted', zero_division=1)\n",
    "        precisions.append(precision)\n",
    "        recalls.append(recall)\n",
    "        f1_scores.append(f1)\n",
    "    \n",
    "    avg_accuracy = np.mean(accuracies)\n",
    "    avg_precision = np.mean(precisions)\n",
    "    avg_recall = np.mean(recalls)\n",
    "    avg_f1 = np.mean(f1_scores)\n",
    "    \n",
    "    return avg_accuracy, avg_precision, avg_recall, avg_f1"
   ]
  },
  {
   "cell_type": "markdown",
   "id": "6f32507f-518f-442a-8610-49f57b1fd692",
   "metadata": {},
   "source": [
    "## Fitting the model"
   ]
  },
  {
   "cell_type": "code",
   "execution_count": 20,
   "id": "42cfe3a0-bdb5-45d2-80d5-22ace41a0a54",
   "metadata": {},
   "outputs": [
    {
     "name": "stdout",
     "output_type": "stream",
     "text": [
      "                     Accuracy  Precision    Recall  F1 Score\n",
      "Logistic Regression  0.914773   0.922896  0.914773  0.914106\n",
      "SVM                  0.934091   0.945592  0.934091  0.935417\n",
      "Random Forest        0.919318   0.925460  0.919318  0.916475\n",
      "Naive Bayes          0.889773   0.899550  0.889773  0.882697\n",
      "Decision Tree        0.738636   0.772455  0.738636  0.737456\n",
      "KNN                  0.888636   0.898312  0.888636  0.886014\n",
      "Gradient Boosting    0.801136   0.833957  0.801136  0.807270\n",
      "XGBoost              0.820455   0.834563  0.820455  0.818659\n",
      "Best Model: SVM\n"
     ]
    }
   ],
   "source": [
    "results = {}\n",
    "\n",
    "for model_name, model in models.items():\n",
    "    accuracy, precision, recall, f1 = train_and_evaluate_model(model, X_train_resampled, y_train_resampled)\n",
    "    results[model_name] = {\n",
    "        'Accuracy': accuracy,\n",
    "        'Precision': precision,\n",
    "        'Recall': recall,\n",
    "        'F1 Score': f1\n",
    "    }\n",
    "\n",
    "results_df = pd.DataFrame(results).T\n",
    "print(results_df)\n",
    "\n",
    "best_model_name = results_df['F1 Score'].idxmax()\n",
    "print(f\"Best Model: {best_model_name}\")\n",
    "best_model = models[best_model_name]"
   ]
  },
  {
   "cell_type": "markdown",
   "id": "05e56a09-d949-4fb1-9b8d-41fd25c6eaa6",
   "metadata": {},
   "source": [
    "### Best Model is found as SVM "
   ]
  },
  {
   "cell_type": "markdown",
   "id": "4a75fb5b-c344-4a3a-a098-5ceda78ea27e",
   "metadata": {},
   "source": [
    "## Hyperparameter tuning"
   ]
  },
  {
   "cell_type": "markdown",
   "id": "6b6274b9-54cb-445b-bb22-01ede995a7de",
   "metadata": {},
   "source": [
    "### 1. For SVM Classifier"
   ]
  },
  {
   "cell_type": "code",
   "execution_count": 21,
   "id": "6064774f-d566-4d80-9b89-810e92f7e9d6",
   "metadata": {},
   "outputs": [
    {
     "name": "stdout",
     "output_type": "stream",
     "text": [
      "Best parameters for SVC: {'C': 10, 'gamma': 'scale', 'kernel': 'rbf'}\n"
     ]
    }
   ],
   "source": [
    "from sklearn.model_selection import GridSearchCV\n",
    "\n",
    "svc_param_grid = {\n",
    "    'C': [0.1, 1, 10],\n",
    "    'kernel': ['linear', 'rbf', 'poly'],\n",
    "    'gamma': ['scale', 'auto']\n",
    "}\n",
    "\n",
    "svc = SVC(class_weight='balanced')\n",
    "\n",
    "stratified_kfold = StratifiedKFold(n_splits=10, shuffle=True, random_state=42)\n",
    "\n",
    "grid_search = GridSearchCV(svc, svc_param_grid, cv=stratified_kfold, scoring='f1_weighted', n_jobs=-1)\n",
    "grid_search.fit(X_train_resampled, y_train_resampled)\n",
    "\n",
    "best_svc_model = grid_search.best_estimator_\n",
    "print(f\"Best parameters for SVC: {grid_search.best_params_}\")"
   ]
  },
  {
   "cell_type": "code",
   "execution_count": 22,
   "id": "218fe6b9-d0da-42a1-b055-7e6700cd0af5",
   "metadata": {},
   "outputs": [
    {
     "name": "stdout",
     "output_type": "stream",
     "text": [
      "Test Set Accuracy of SVC after Hyperparameter tuning: 0.9716981132075472\n"
     ]
    }
   ],
   "source": [
    "X_test_tfidf = tfidf.transform(X_test).toarray()\n",
    "y_test_pred = best_svc_model.predict(X_test_tfidf)\n",
    "test_accuracy = accuracy_score(y_test, y_test_pred)\n",
    "print(f\"Test Set Accuracy of SVC after Hyperparameter tuning: {test_accuracy}\")"
   ]
  },
  {
   "cell_type": "markdown",
   "id": "ac60d7fb-f5ec-4cda-aa2d-6844654f8965",
   "metadata": {},
   "source": [
    "#### Test Set Accuracy of SVM Classifier = 0.97"
   ]
  },
  {
   "cell_type": "markdown",
   "id": "3b752187-4150-4783-bdff-cb32e66dda85",
   "metadata": {},
   "source": [
    "### 2. For Random Forest Classifier"
   ]
  },
  {
   "cell_type": "code",
   "execution_count": 23,
   "id": "cf9b283d-5b68-49f0-83cb-c53583664985",
   "metadata": {},
   "outputs": [
    {
     "name": "stdout",
     "output_type": "stream",
     "text": [
      "Best parameters for Random Forest: {'class_weight': 'balanced', 'max_depth': None, 'min_samples_leaf': 1, 'min_samples_split': 2, 'n_estimators': 200}\n"
     ]
    }
   ],
   "source": [
    "rf_param_grid = {\n",
    "    'n_estimators': [100, 200],  \n",
    "    'max_depth': [None, 10],  \n",
    "    'min_samples_split': [2, 5],  \n",
    "    'min_samples_leaf': [1, 2],  \n",
    "    'class_weight': ['balanced']\n",
    "}\n",
    "\n",
    "rf = RandomForestClassifier()\n",
    "\n",
    "stratified_kfold = StratifiedKFold(n_splits=10, shuffle=True, random_state=42)\n",
    "\n",
    "grid_search_rf = GridSearchCV(rf, rf_param_grid, cv=stratified_kfold, scoring='f1_weighted', n_jobs=-1)\n",
    "grid_search_rf.fit(X_train_resampled, y_train_resampled)\n",
    "\n",
    "best_rf_model = grid_search_rf.best_estimator_\n",
    "print(f\"Best parameters for Random Forest: {grid_search_rf.best_params_}\")"
   ]
  },
  {
   "cell_type": "code",
   "execution_count": 24,
   "id": "50c36522-ccab-49fa-8b75-444ab014c958",
   "metadata": {
    "scrolled": true
   },
   "outputs": [
    {
     "name": "stdout",
     "output_type": "stream",
     "text": [
      "Test Set Accuracy of Random Forest after Hyperparameter tuning: 0.9292452830188679\n"
     ]
    }
   ],
   "source": [
    "X_test_tfidf = tfidf.transform(X_test).toarray()\n",
    "y_test_pred = best_rf_model.predict(X_test_tfidf)\n",
    "test_accuracy = accuracy_score(y_test, y_test_pred)\n",
    "print(f\"Test Set Accuracy of Random Forest after Hyperparameter tuning: {test_accuracy}\")"
   ]
  },
  {
   "cell_type": "markdown",
   "id": "68970440-103b-4b7e-8b10-75ce0fdaa7a3",
   "metadata": {
    "jp-MarkdownHeadingCollapsed": true
   },
   "source": [
    "#### Test Set Accuracy of Random Forest Classifier = 0.93"
   ]
  },
  {
   "cell_type": "markdown",
   "id": "1c7bba10-2c83-491e-aba7-d4f8deef5bdd",
   "metadata": {},
   "source": [
    "## The Hyperparameter tuned SVM Classifier Model is chosen"
   ]
  },
  {
   "cell_type": "code",
   "execution_count": 25,
   "id": "1f1edacf-3c46-4853-a5e5-b048b8374cea",
   "metadata": {},
   "outputs": [
    {
     "name": "stdout",
     "output_type": "stream",
     "text": [
      "Accuracy of SVM Classifier Best Model on Test Set: 0.9716981132075472\n",
      "Precision of SVM Classifier Best Model on Test Set: 0.9744520678482943\n",
      "Recall of SVM Classifier Best Model on Test Set: 0.9716981132075472\n",
      "F1 Score of SVM Classifier Best Model on Test Set: 0.9716199595719426\n",
      "\n",
      "Classification Report\n",
      "\n",
      "                                 precision    recall  f1-score   support\n",
      "\n",
      "                        Allergy       0.91      1.00      0.95        10\n",
      "                      Arthritis       1.00      1.00      1.00        10\n",
      "               Bronchial Asthma       0.91      1.00      0.95        10\n",
      "           Cervical Spondylosis       1.00      1.00      1.00        10\n",
      "                    Chicken Pox       1.00      0.90      0.95        10\n",
      "                    Common Cold       1.00      1.00      1.00        10\n",
      "                         Dengue       1.00      0.90      0.95        10\n",
      "                       Diabetes       1.00      1.00      1.00        10\n",
      "                  Drug Reaction       0.89      1.00      0.94         8\n",
      "               Fungal Infection       1.00      1.00      1.00         9\n",
      "Gastroesophageal Reflux Disease       1.00      0.90      0.95        10\n",
      "                   Hypertension       1.00      1.00      1.00        10\n",
      "                       Impetigo       1.00      1.00      1.00        10\n",
      "                       Jaundice       1.00      0.86      0.92         7\n",
      "                        Malaria       1.00      1.00      1.00        10\n",
      "                       Migraine       1.00      0.90      0.95        10\n",
      "           Peptic Ulcer Disease       1.00      1.00      1.00        10\n",
      "                      Pneumonia       1.00      0.90      0.95        10\n",
      "                      Psoriasis       1.00      1.00      1.00        10\n",
      "                        Typhoid       0.90      1.00      0.95         9\n",
      "        Urinary Tract Infection       0.90      1.00      0.95         9\n",
      "                 Varicose Veins       0.91      1.00      0.95        10\n",
      "\n",
      "                       accuracy                           0.97       212\n",
      "                      macro avg       0.97      0.97      0.97       212\n",
      "                   weighted avg       0.97      0.97      0.97       212\n",
      "\n"
     ]
    },
    {
     "data": {
      "text/html": [
       "<style>#sk-container-id-1 {\n",
       "  /* Definition of color scheme common for light and dark mode */\n",
       "  --sklearn-color-text: black;\n",
       "  --sklearn-color-line: gray;\n",
       "  /* Definition of color scheme for unfitted estimators */\n",
       "  --sklearn-color-unfitted-level-0: #fff5e6;\n",
       "  --sklearn-color-unfitted-level-1: #f6e4d2;\n",
       "  --sklearn-color-unfitted-level-2: #ffe0b3;\n",
       "  --sklearn-color-unfitted-level-3: chocolate;\n",
       "  /* Definition of color scheme for fitted estimators */\n",
       "  --sklearn-color-fitted-level-0: #f0f8ff;\n",
       "  --sklearn-color-fitted-level-1: #d4ebff;\n",
       "  --sklearn-color-fitted-level-2: #b3dbfd;\n",
       "  --sklearn-color-fitted-level-3: cornflowerblue;\n",
       "\n",
       "  /* Specific color for light theme */\n",
       "  --sklearn-color-text-on-default-background: var(--sg-text-color, var(--theme-code-foreground, var(--jp-content-font-color1, black)));\n",
       "  --sklearn-color-background: var(--sg-background-color, var(--theme-background, var(--jp-layout-color0, white)));\n",
       "  --sklearn-color-border-box: var(--sg-text-color, var(--theme-code-foreground, var(--jp-content-font-color1, black)));\n",
       "  --sklearn-color-icon: #696969;\n",
       "\n",
       "  @media (prefers-color-scheme: dark) {\n",
       "    /* Redefinition of color scheme for dark theme */\n",
       "    --sklearn-color-text-on-default-background: var(--sg-text-color, var(--theme-code-foreground, var(--jp-content-font-color1, white)));\n",
       "    --sklearn-color-background: var(--sg-background-color, var(--theme-background, var(--jp-layout-color0, #111)));\n",
       "    --sklearn-color-border-box: var(--sg-text-color, var(--theme-code-foreground, var(--jp-content-font-color1, white)));\n",
       "    --sklearn-color-icon: #878787;\n",
       "  }\n",
       "}\n",
       "\n",
       "#sk-container-id-1 {\n",
       "  color: var(--sklearn-color-text);\n",
       "}\n",
       "\n",
       "#sk-container-id-1 pre {\n",
       "  padding: 0;\n",
       "}\n",
       "\n",
       "#sk-container-id-1 input.sk-hidden--visually {\n",
       "  border: 0;\n",
       "  clip: rect(1px 1px 1px 1px);\n",
       "  clip: rect(1px, 1px, 1px, 1px);\n",
       "  height: 1px;\n",
       "  margin: -1px;\n",
       "  overflow: hidden;\n",
       "  padding: 0;\n",
       "  position: absolute;\n",
       "  width: 1px;\n",
       "}\n",
       "\n",
       "#sk-container-id-1 div.sk-dashed-wrapped {\n",
       "  border: 1px dashed var(--sklearn-color-line);\n",
       "  margin: 0 0.4em 0.5em 0.4em;\n",
       "  box-sizing: border-box;\n",
       "  padding-bottom: 0.4em;\n",
       "  background-color: var(--sklearn-color-background);\n",
       "}\n",
       "\n",
       "#sk-container-id-1 div.sk-container {\n",
       "  /* jupyter's `normalize.less` sets `[hidden] { display: none; }`\n",
       "     but bootstrap.min.css set `[hidden] { display: none !important; }`\n",
       "     so we also need the `!important` here to be able to override the\n",
       "     default hidden behavior on the sphinx rendered scikit-learn.org.\n",
       "     See: https://github.com/scikit-learn/scikit-learn/issues/21755 */\n",
       "  display: inline-block !important;\n",
       "  position: relative;\n",
       "}\n",
       "\n",
       "#sk-container-id-1 div.sk-text-repr-fallback {\n",
       "  display: none;\n",
       "}\n",
       "\n",
       "div.sk-parallel-item,\n",
       "div.sk-serial,\n",
       "div.sk-item {\n",
       "  /* draw centered vertical line to link estimators */\n",
       "  background-image: linear-gradient(var(--sklearn-color-text-on-default-background), var(--sklearn-color-text-on-default-background));\n",
       "  background-size: 2px 100%;\n",
       "  background-repeat: no-repeat;\n",
       "  background-position: center center;\n",
       "}\n",
       "\n",
       "/* Parallel-specific style estimator block */\n",
       "\n",
       "#sk-container-id-1 div.sk-parallel-item::after {\n",
       "  content: \"\";\n",
       "  width: 100%;\n",
       "  border-bottom: 2px solid var(--sklearn-color-text-on-default-background);\n",
       "  flex-grow: 1;\n",
       "}\n",
       "\n",
       "#sk-container-id-1 div.sk-parallel {\n",
       "  display: flex;\n",
       "  align-items: stretch;\n",
       "  justify-content: center;\n",
       "  background-color: var(--sklearn-color-background);\n",
       "  position: relative;\n",
       "}\n",
       "\n",
       "#sk-container-id-1 div.sk-parallel-item {\n",
       "  display: flex;\n",
       "  flex-direction: column;\n",
       "}\n",
       "\n",
       "#sk-container-id-1 div.sk-parallel-item:first-child::after {\n",
       "  align-self: flex-end;\n",
       "  width: 50%;\n",
       "}\n",
       "\n",
       "#sk-container-id-1 div.sk-parallel-item:last-child::after {\n",
       "  align-self: flex-start;\n",
       "  width: 50%;\n",
       "}\n",
       "\n",
       "#sk-container-id-1 div.sk-parallel-item:only-child::after {\n",
       "  width: 0;\n",
       "}\n",
       "\n",
       "/* Serial-specific style estimator block */\n",
       "\n",
       "#sk-container-id-1 div.sk-serial {\n",
       "  display: flex;\n",
       "  flex-direction: column;\n",
       "  align-items: center;\n",
       "  background-color: var(--sklearn-color-background);\n",
       "  padding-right: 1em;\n",
       "  padding-left: 1em;\n",
       "}\n",
       "\n",
       "\n",
       "/* Toggleable style: style used for estimator/Pipeline/ColumnTransformer box that is\n",
       "clickable and can be expanded/collapsed.\n",
       "- Pipeline and ColumnTransformer use this feature and define the default style\n",
       "- Estimators will overwrite some part of the style using the `sk-estimator` class\n",
       "*/\n",
       "\n",
       "/* Pipeline and ColumnTransformer style (default) */\n",
       "\n",
       "#sk-container-id-1 div.sk-toggleable {\n",
       "  /* Default theme specific background. It is overwritten whether we have a\n",
       "  specific estimator or a Pipeline/ColumnTransformer */\n",
       "  background-color: var(--sklearn-color-background);\n",
       "}\n",
       "\n",
       "/* Toggleable label */\n",
       "#sk-container-id-1 label.sk-toggleable__label {\n",
       "  cursor: pointer;\n",
       "  display: block;\n",
       "  width: 100%;\n",
       "  margin-bottom: 0;\n",
       "  padding: 0.5em;\n",
       "  box-sizing: border-box;\n",
       "  text-align: center;\n",
       "}\n",
       "\n",
       "#sk-container-id-1 label.sk-toggleable__label-arrow:before {\n",
       "  /* Arrow on the left of the label */\n",
       "  content: \"▸\";\n",
       "  float: left;\n",
       "  margin-right: 0.25em;\n",
       "  color: var(--sklearn-color-icon);\n",
       "}\n",
       "\n",
       "#sk-container-id-1 label.sk-toggleable__label-arrow:hover:before {\n",
       "  color: var(--sklearn-color-text);\n",
       "}\n",
       "\n",
       "/* Toggleable content - dropdown */\n",
       "\n",
       "#sk-container-id-1 div.sk-toggleable__content {\n",
       "  max-height: 0;\n",
       "  max-width: 0;\n",
       "  overflow: hidden;\n",
       "  text-align: left;\n",
       "  /* unfitted */\n",
       "  background-color: var(--sklearn-color-unfitted-level-0);\n",
       "}\n",
       "\n",
       "#sk-container-id-1 div.sk-toggleable__content.fitted {\n",
       "  /* fitted */\n",
       "  background-color: var(--sklearn-color-fitted-level-0);\n",
       "}\n",
       "\n",
       "#sk-container-id-1 div.sk-toggleable__content pre {\n",
       "  margin: 0.2em;\n",
       "  border-radius: 0.25em;\n",
       "  color: var(--sklearn-color-text);\n",
       "  /* unfitted */\n",
       "  background-color: var(--sklearn-color-unfitted-level-0);\n",
       "}\n",
       "\n",
       "#sk-container-id-1 div.sk-toggleable__content.fitted pre {\n",
       "  /* unfitted */\n",
       "  background-color: var(--sklearn-color-fitted-level-0);\n",
       "}\n",
       "\n",
       "#sk-container-id-1 input.sk-toggleable__control:checked~div.sk-toggleable__content {\n",
       "  /* Expand drop-down */\n",
       "  max-height: 200px;\n",
       "  max-width: 100%;\n",
       "  overflow: auto;\n",
       "}\n",
       "\n",
       "#sk-container-id-1 input.sk-toggleable__control:checked~label.sk-toggleable__label-arrow:before {\n",
       "  content: \"▾\";\n",
       "}\n",
       "\n",
       "/* Pipeline/ColumnTransformer-specific style */\n",
       "\n",
       "#sk-container-id-1 div.sk-label input.sk-toggleable__control:checked~label.sk-toggleable__label {\n",
       "  color: var(--sklearn-color-text);\n",
       "  background-color: var(--sklearn-color-unfitted-level-2);\n",
       "}\n",
       "\n",
       "#sk-container-id-1 div.sk-label.fitted input.sk-toggleable__control:checked~label.sk-toggleable__label {\n",
       "  background-color: var(--sklearn-color-fitted-level-2);\n",
       "}\n",
       "\n",
       "/* Estimator-specific style */\n",
       "\n",
       "/* Colorize estimator box */\n",
       "#sk-container-id-1 div.sk-estimator input.sk-toggleable__control:checked~label.sk-toggleable__label {\n",
       "  /* unfitted */\n",
       "  background-color: var(--sklearn-color-unfitted-level-2);\n",
       "}\n",
       "\n",
       "#sk-container-id-1 div.sk-estimator.fitted input.sk-toggleable__control:checked~label.sk-toggleable__label {\n",
       "  /* fitted */\n",
       "  background-color: var(--sklearn-color-fitted-level-2);\n",
       "}\n",
       "\n",
       "#sk-container-id-1 div.sk-label label.sk-toggleable__label,\n",
       "#sk-container-id-1 div.sk-label label {\n",
       "  /* The background is the default theme color */\n",
       "  color: var(--sklearn-color-text-on-default-background);\n",
       "}\n",
       "\n",
       "/* On hover, darken the color of the background */\n",
       "#sk-container-id-1 div.sk-label:hover label.sk-toggleable__label {\n",
       "  color: var(--sklearn-color-text);\n",
       "  background-color: var(--sklearn-color-unfitted-level-2);\n",
       "}\n",
       "\n",
       "/* Label box, darken color on hover, fitted */\n",
       "#sk-container-id-1 div.sk-label.fitted:hover label.sk-toggleable__label.fitted {\n",
       "  color: var(--sklearn-color-text);\n",
       "  background-color: var(--sklearn-color-fitted-level-2);\n",
       "}\n",
       "\n",
       "/* Estimator label */\n",
       "\n",
       "#sk-container-id-1 div.sk-label label {\n",
       "  font-family: monospace;\n",
       "  font-weight: bold;\n",
       "  display: inline-block;\n",
       "  line-height: 1.2em;\n",
       "}\n",
       "\n",
       "#sk-container-id-1 div.sk-label-container {\n",
       "  text-align: center;\n",
       "}\n",
       "\n",
       "/* Estimator-specific */\n",
       "#sk-container-id-1 div.sk-estimator {\n",
       "  font-family: monospace;\n",
       "  border: 1px dotted var(--sklearn-color-border-box);\n",
       "  border-radius: 0.25em;\n",
       "  box-sizing: border-box;\n",
       "  margin-bottom: 0.5em;\n",
       "  /* unfitted */\n",
       "  background-color: var(--sklearn-color-unfitted-level-0);\n",
       "}\n",
       "\n",
       "#sk-container-id-1 div.sk-estimator.fitted {\n",
       "  /* fitted */\n",
       "  background-color: var(--sklearn-color-fitted-level-0);\n",
       "}\n",
       "\n",
       "/* on hover */\n",
       "#sk-container-id-1 div.sk-estimator:hover {\n",
       "  /* unfitted */\n",
       "  background-color: var(--sklearn-color-unfitted-level-2);\n",
       "}\n",
       "\n",
       "#sk-container-id-1 div.sk-estimator.fitted:hover {\n",
       "  /* fitted */\n",
       "  background-color: var(--sklearn-color-fitted-level-2);\n",
       "}\n",
       "\n",
       "/* Specification for estimator info (e.g. \"i\" and \"?\") */\n",
       "\n",
       "/* Common style for \"i\" and \"?\" */\n",
       "\n",
       ".sk-estimator-doc-link,\n",
       "a:link.sk-estimator-doc-link,\n",
       "a:visited.sk-estimator-doc-link {\n",
       "  float: right;\n",
       "  font-size: smaller;\n",
       "  line-height: 1em;\n",
       "  font-family: monospace;\n",
       "  background-color: var(--sklearn-color-background);\n",
       "  border-radius: 1em;\n",
       "  height: 1em;\n",
       "  width: 1em;\n",
       "  text-decoration: none !important;\n",
       "  margin-left: 1ex;\n",
       "  /* unfitted */\n",
       "  border: var(--sklearn-color-unfitted-level-1) 1pt solid;\n",
       "  color: var(--sklearn-color-unfitted-level-1);\n",
       "}\n",
       "\n",
       ".sk-estimator-doc-link.fitted,\n",
       "a:link.sk-estimator-doc-link.fitted,\n",
       "a:visited.sk-estimator-doc-link.fitted {\n",
       "  /* fitted */\n",
       "  border: var(--sklearn-color-fitted-level-1) 1pt solid;\n",
       "  color: var(--sklearn-color-fitted-level-1);\n",
       "}\n",
       "\n",
       "/* On hover */\n",
       "div.sk-estimator:hover .sk-estimator-doc-link:hover,\n",
       ".sk-estimator-doc-link:hover,\n",
       "div.sk-label-container:hover .sk-estimator-doc-link:hover,\n",
       ".sk-estimator-doc-link:hover {\n",
       "  /* unfitted */\n",
       "  background-color: var(--sklearn-color-unfitted-level-3);\n",
       "  color: var(--sklearn-color-background);\n",
       "  text-decoration: none;\n",
       "}\n",
       "\n",
       "div.sk-estimator.fitted:hover .sk-estimator-doc-link.fitted:hover,\n",
       ".sk-estimator-doc-link.fitted:hover,\n",
       "div.sk-label-container:hover .sk-estimator-doc-link.fitted:hover,\n",
       ".sk-estimator-doc-link.fitted:hover {\n",
       "  /* fitted */\n",
       "  background-color: var(--sklearn-color-fitted-level-3);\n",
       "  color: var(--sklearn-color-background);\n",
       "  text-decoration: none;\n",
       "}\n",
       "\n",
       "/* Span, style for the box shown on hovering the info icon */\n",
       ".sk-estimator-doc-link span {\n",
       "  display: none;\n",
       "  z-index: 9999;\n",
       "  position: relative;\n",
       "  font-weight: normal;\n",
       "  right: .2ex;\n",
       "  padding: .5ex;\n",
       "  margin: .5ex;\n",
       "  width: min-content;\n",
       "  min-width: 20ex;\n",
       "  max-width: 50ex;\n",
       "  color: var(--sklearn-color-text);\n",
       "  box-shadow: 2pt 2pt 4pt #999;\n",
       "  /* unfitted */\n",
       "  background: var(--sklearn-color-unfitted-level-0);\n",
       "  border: .5pt solid var(--sklearn-color-unfitted-level-3);\n",
       "}\n",
       "\n",
       ".sk-estimator-doc-link.fitted span {\n",
       "  /* fitted */\n",
       "  background: var(--sklearn-color-fitted-level-0);\n",
       "  border: var(--sklearn-color-fitted-level-3);\n",
       "}\n",
       "\n",
       ".sk-estimator-doc-link:hover span {\n",
       "  display: block;\n",
       "}\n",
       "\n",
       "/* \"?\"-specific style due to the `<a>` HTML tag */\n",
       "\n",
       "#sk-container-id-1 a.estimator_doc_link {\n",
       "  float: right;\n",
       "  font-size: 1rem;\n",
       "  line-height: 1em;\n",
       "  font-family: monospace;\n",
       "  background-color: var(--sklearn-color-background);\n",
       "  border-radius: 1rem;\n",
       "  height: 1rem;\n",
       "  width: 1rem;\n",
       "  text-decoration: none;\n",
       "  /* unfitted */\n",
       "  color: var(--sklearn-color-unfitted-level-1);\n",
       "  border: var(--sklearn-color-unfitted-level-1) 1pt solid;\n",
       "}\n",
       "\n",
       "#sk-container-id-1 a.estimator_doc_link.fitted {\n",
       "  /* fitted */\n",
       "  border: var(--sklearn-color-fitted-level-1) 1pt solid;\n",
       "  color: var(--sklearn-color-fitted-level-1);\n",
       "}\n",
       "\n",
       "/* On hover */\n",
       "#sk-container-id-1 a.estimator_doc_link:hover {\n",
       "  /* unfitted */\n",
       "  background-color: var(--sklearn-color-unfitted-level-3);\n",
       "  color: var(--sklearn-color-background);\n",
       "  text-decoration: none;\n",
       "}\n",
       "\n",
       "#sk-container-id-1 a.estimator_doc_link.fitted:hover {\n",
       "  /* fitted */\n",
       "  background-color: var(--sklearn-color-fitted-level-3);\n",
       "}\n",
       "</style><div id=\"sk-container-id-1\" class=\"sk-top-container\"><div class=\"sk-text-repr-fallback\"><pre>SVC(C=10, class_weight=&#x27;balanced&#x27;)</pre><b>In a Jupyter environment, please rerun this cell to show the HTML representation or trust the notebook. <br />On GitHub, the HTML representation is unable to render, please try loading this page with nbviewer.org.</b></div><div class=\"sk-container\" hidden><div class=\"sk-item\"><div class=\"sk-estimator fitted sk-toggleable\"><input class=\"sk-toggleable__control sk-hidden--visually\" id=\"sk-estimator-id-1\" type=\"checkbox\" checked><label for=\"sk-estimator-id-1\" class=\"sk-toggleable__label fitted sk-toggleable__label-arrow fitted\">&nbsp;&nbsp;SVC<a class=\"sk-estimator-doc-link fitted\" rel=\"noreferrer\" target=\"_blank\" href=\"https://scikit-learn.org/1.5/modules/generated/sklearn.svm.SVC.html\">?<span>Documentation for SVC</span></a><span class=\"sk-estimator-doc-link fitted\">i<span>Fitted</span></span></label><div class=\"sk-toggleable__content fitted\"><pre>SVC(C=10, class_weight=&#x27;balanced&#x27;)</pre></div> </div></div></div></div>"
      ],
      "text/plain": [
       "SVC(C=10, class_weight='balanced')"
      ]
     },
     "execution_count": 25,
     "metadata": {},
     "output_type": "execute_result"
    }
   ],
   "source": [
    "y_test_pred = best_svc_model.predict(X_test_tfidf)        \n",
    "acc_svc = accuracy_score(y_test, y_test_pred)\n",
    "prec_svc, rec_svc, f1_svc, _ = precision_recall_fscore_support(y_test, y_test_pred, average='weighted', zero_division=1)\n",
    "\n",
    "print(f\"Accuracy of SVM Classifier Best Model on Test Set: {acc_svc}\")\n",
    "print(f\"Precision of SVM Classifier Best Model on Test Set: {prec_svc}\")\n",
    "print(f\"Recall of SVM Classifier Best Model on Test Set: {rec_svc}\")\n",
    "print(f\"F1 Score of SVM Classifier Best Model on Test Set: {f1_svc}\")\n",
    "\n",
    "from sklearn.metrics import classification_report\n",
    "print(\"\\nClassification Report\\n\")\n",
    "y_test_decoded = label_encoder.inverse_transform(y_test)  \n",
    "y_test_pred_decoded = label_encoder.inverse_transform(y_test_pred) \n",
    "report = classification_report(y_test_decoded, y_test_pred_decoded, zero_division=1)\n",
    "print(report)\n",
    "best_svc_model"
   ]
  },
  {
   "cell_type": "markdown",
   "id": "bd84e82d-3b64-4349-8d31-bb5c6247f1d0",
   "metadata": {},
   "source": [
    "#### Saving the SVM model, Label Encoder, TF-IDF Vectorizer to implement in Flask"
   ]
  },
  {
   "cell_type": "code",
   "execution_count": 26,
   "id": "d93c563f-bc7e-4de8-9ad6-963b7a491307",
   "metadata": {},
   "outputs": [
    {
     "name": "stdout",
     "output_type": "stream",
     "text": [
      "Saved Successfully\n"
     ]
    }
   ],
   "source": [
    "import joblib\n",
    "\n",
    "joblib.dump(tfidf, 'tfidf_vectorizer.joblib')\n",
    "joblib.dump(label_encoder, 'label_encoder.joblib')\n",
    "joblib.dump(best_svc_model, 'best_svc_model.joblib')\n",
    "\n",
    "print(\"Saved Successfully\")"
   ]
  },
  {
   "cell_type": "markdown",
   "id": "5664864b-44ca-4112-a884-6c6c7ac97088",
   "metadata": {},
   "source": [
    "## References\n",
    "### 1. https://www.kaggle.com/datasets/dpm3333/patient-symptom-report-and-disease\n",
    "### 2. https://github.com/kavgan/clinical-concepts"
   ]
  }
 ],
 "metadata": {
  "kernelspec": {
   "display_name": "Python 3 (ipykernel)",
   "language": "python",
   "name": "python3"
  },
  "language_info": {
   "codemirror_mode": {
    "name": "ipython",
    "version": 3
   },
   "file_extension": ".py",
   "mimetype": "text/x-python",
   "name": "python",
   "nbconvert_exporter": "python",
   "pygments_lexer": "ipython3",
   "version": "3.12.7"
  }
 },
 "nbformat": 4,
 "nbformat_minor": 5
}
